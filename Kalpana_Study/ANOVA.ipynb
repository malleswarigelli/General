{
 "cells": [
  {
   "cell_type": "markdown",
   "metadata": {},
   "source": [
    "# ONE-WAY & TWO-WAY ANOVA WITH PYTHON"
   ]
  },
  {
   "cell_type": "code",
   "execution_count": 1,
   "metadata": {},
   "outputs": [],
   "source": [
    "# importing necessary libraries\n",
    "import pandas as pd\n",
    "import researchpy as rp"
   ]
  },
  {
   "cell_type": "code",
   "execution_count": 2,
   "metadata": {},
   "outputs": [],
   "source": [
    "# loading data using pandas\n",
    "data = pd.read_csv('Rice_Station_Data_Extraction_Non_Uniform_Filtered.csv')"
   ]
  },
  {
   "cell_type": "code",
   "execution_count": 3,
   "metadata": {},
   "outputs": [
    {
     "data": {
      "text/html": [
       "<div>\n",
       "<style scoped>\n",
       "    .dataframe tbody tr th:only-of-type {\n",
       "        vertical-align: middle;\n",
       "    }\n",
       "\n",
       "    .dataframe tbody tr th {\n",
       "        vertical-align: top;\n",
       "    }\n",
       "\n",
       "    .dataframe thead th {\n",
       "        text-align: right;\n",
       "    }\n",
       "</style>\n",
       "<table border=\"1\" class=\"dataframe\">\n",
       "  <thead>\n",
       "    <tr style=\"text-align: right;\">\n",
       "      <th></th>\n",
       "      <th>Planting date</th>\n",
       "      <th>Software</th>\n",
       "      <th>Location</th>\n",
       "      <th>Date</th>\n",
       "      <th>DOY</th>\n",
       "      <th>Altitude (m)</th>\n",
       "      <th>Stage-Full</th>\n",
       "      <th>Stage</th>\n",
       "      <th>Plot_ID</th>\n",
       "      <th>Replicate</th>\n",
       "      <th>...</th>\n",
       "      <th>RVI</th>\n",
       "      <th>TVI</th>\n",
       "      <th>CVI</th>\n",
       "      <th>NDVI</th>\n",
       "      <th>DVI</th>\n",
       "      <th>Soy_yiled(bu/acre)</th>\n",
       "      <th>Observed data</th>\n",
       "      <th>Days after planting</th>\n",
       "      <th>Canopy Height (cm)</th>\n",
       "      <th>LAI</th>\n",
       "    </tr>\n",
       "  </thead>\n",
       "  <tbody>\n",
       "    <tr>\n",
       "      <th>0</th>\n",
       "      <td>NaN</td>\n",
       "      <td>Pix4d</td>\n",
       "      <td>Rice_Station</td>\n",
       "      <td>1/22/2021</td>\n",
       "      <td>22</td>\n",
       "      <td>120</td>\n",
       "      <td>NaN</td>\n",
       "      <td>NaN</td>\n",
       "      <td>101</td>\n",
       "      <td>1</td>\n",
       "      <td>...</td>\n",
       "      <td>1.236684</td>\n",
       "      <td>2.960273</td>\n",
       "      <td>1.712160</td>\n",
       "      <td>0.105216</td>\n",
       "      <td>0.041239</td>\n",
       "      <td>66.73</td>\n",
       "      <td>NaN</td>\n",
       "      <td>NaN</td>\n",
       "      <td>NaN</td>\n",
       "      <td>NaN</td>\n",
       "    </tr>\n",
       "    <tr>\n",
       "      <th>1</th>\n",
       "      <td>NaN</td>\n",
       "      <td>Pix4d</td>\n",
       "      <td>Rice_Station</td>\n",
       "      <td>1/22/2021</td>\n",
       "      <td>22</td>\n",
       "      <td>120</td>\n",
       "      <td>NaN</td>\n",
       "      <td>NaN</td>\n",
       "      <td>102</td>\n",
       "      <td>1</td>\n",
       "      <td>...</td>\n",
       "      <td>1.229085</td>\n",
       "      <td>2.904267</td>\n",
       "      <td>1.694055</td>\n",
       "      <td>0.102217</td>\n",
       "      <td>0.038293</td>\n",
       "      <td>54.65</td>\n",
       "      <td>NaN</td>\n",
       "      <td>NaN</td>\n",
       "      <td>NaN</td>\n",
       "      <td>NaN</td>\n",
       "    </tr>\n",
       "    <tr>\n",
       "      <th>2</th>\n",
       "      <td>NaN</td>\n",
       "      <td>Pix4d</td>\n",
       "      <td>Rice_Station</td>\n",
       "      <td>1/22/2021</td>\n",
       "      <td>22</td>\n",
       "      <td>120</td>\n",
       "      <td>NaN</td>\n",
       "      <td>NaN</td>\n",
       "      <td>103</td>\n",
       "      <td>1</td>\n",
       "      <td>...</td>\n",
       "      <td>1.200309</td>\n",
       "      <td>2.315448</td>\n",
       "      <td>1.665547</td>\n",
       "      <td>0.090710</td>\n",
       "      <td>0.033462</td>\n",
       "      <td>56.88</td>\n",
       "      <td>NaN</td>\n",
       "      <td>NaN</td>\n",
       "      <td>NaN</td>\n",
       "      <td>NaN</td>\n",
       "    </tr>\n",
       "    <tr>\n",
       "      <th>3</th>\n",
       "      <td>NaN</td>\n",
       "      <td>Pix4d</td>\n",
       "      <td>Rice_Station</td>\n",
       "      <td>1/22/2021</td>\n",
       "      <td>22</td>\n",
       "      <td>120</td>\n",
       "      <td>NaN</td>\n",
       "      <td>NaN</td>\n",
       "      <td>104</td>\n",
       "      <td>1</td>\n",
       "      <td>...</td>\n",
       "      <td>1.252164</td>\n",
       "      <td>3.167063</td>\n",
       "      <td>1.749084</td>\n",
       "      <td>0.111270</td>\n",
       "      <td>0.038114</td>\n",
       "      <td>56.05</td>\n",
       "      <td>NaN</td>\n",
       "      <td>NaN</td>\n",
       "      <td>NaN</td>\n",
       "      <td>NaN</td>\n",
       "    </tr>\n",
       "    <tr>\n",
       "      <th>4</th>\n",
       "      <td>NaN</td>\n",
       "      <td>Pix4d</td>\n",
       "      <td>Rice_Station</td>\n",
       "      <td>1/22/2021</td>\n",
       "      <td>22</td>\n",
       "      <td>120</td>\n",
       "      <td>NaN</td>\n",
       "      <td>NaN</td>\n",
       "      <td>105</td>\n",
       "      <td>1</td>\n",
       "      <td>...</td>\n",
       "      <td>1.171546</td>\n",
       "      <td>1.422839</td>\n",
       "      <td>1.660871</td>\n",
       "      <td>0.078602</td>\n",
       "      <td>0.026899</td>\n",
       "      <td>51.59</td>\n",
       "      <td>NaN</td>\n",
       "      <td>NaN</td>\n",
       "      <td>NaN</td>\n",
       "      <td>NaN</td>\n",
       "    </tr>\n",
       "  </tbody>\n",
       "</table>\n",
       "<p>5 rows × 44 columns</p>\n",
       "</div>"
      ],
      "text/plain": [
       "   Planting date Software      Location       Date  DOY  Altitude (m)  \\\n",
       "0            NaN    Pix4d  Rice_Station  1/22/2021   22           120   \n",
       "1            NaN    Pix4d  Rice_Station  1/22/2021   22           120   \n",
       "2            NaN    Pix4d  Rice_Station  1/22/2021   22           120   \n",
       "3            NaN    Pix4d  Rice_Station  1/22/2021   22           120   \n",
       "4            NaN    Pix4d  Rice_Station  1/22/2021   22           120   \n",
       "\n",
       "   Stage-Full  Stage  Plot_ID  Replicate  ...       RVI       TVI       CVI  \\\n",
       "0         NaN    NaN      101          1  ...  1.236684  2.960273  1.712160   \n",
       "1         NaN    NaN      102          1  ...  1.229085  2.904267  1.694055   \n",
       "2         NaN    NaN      103          1  ...  1.200309  2.315448  1.665547   \n",
       "3         NaN    NaN      104          1  ...  1.252164  3.167063  1.749084   \n",
       "4         NaN    NaN      105          1  ...  1.171546  1.422839  1.660871   \n",
       "\n",
       "       NDVI       DVI  Soy_yiled(bu/acre)  Observed data  Days after planting  \\\n",
       "0  0.105216  0.041239               66.73            NaN                  NaN   \n",
       "1  0.102217  0.038293               54.65            NaN                  NaN   \n",
       "2  0.090710  0.033462               56.88            NaN                  NaN   \n",
       "3  0.111270  0.038114               56.05            NaN                  NaN   \n",
       "4  0.078602  0.026899               51.59            NaN                  NaN   \n",
       "\n",
       "   Canopy Height (cm)  LAI  \n",
       "0                 NaN  NaN  \n",
       "1                 NaN  NaN  \n",
       "2                 NaN  NaN  \n",
       "3                 NaN  NaN  \n",
       "4                 NaN  NaN  \n",
       "\n",
       "[5 rows x 44 columns]"
      ]
     },
     "execution_count": 3,
     "metadata": {},
     "output_type": "execute_result"
    }
   ],
   "source": [
    "# Get 1st 5 rows of data\n",
    "data.head()"
   ]
  },
  {
   "cell_type": "code",
   "execution_count": 4,
   "metadata": {},
   "outputs": [
    {
     "data": {
      "text/plain": [
       "Index(['Planting date', 'Software', 'Location', 'Date', 'DOY', 'Altitude (m)',\n",
       "       'Stage-Full', 'Stage', 'Plot_ID', 'Replicate', 'Zone',\n",
       "       'Zone_Identification', 'Cover_Crop_Variety',\n",
       "       'Treatment_2__Cut_Fill_Range', 'One_Mix_None_Cover_Crop', 'Thermal',\n",
       "       'NDWI', 'EVI', 'NAVI', 'GNDVI', 'Cigreen', 'RENDVI', 'TGI', 'SAVI',\n",
       "       'CI_RedEdge', 'BI', 'SCI', 'GLI', 'NGRDI_Zonal', 'SI', 'VARI', 'HUE',\n",
       "       'BGI', 'PSRI', 'RVI', 'TVI', 'CVI', 'NDVI', 'DVI', 'Soy_yiled(bu/acre)',\n",
       "       'Observed data', 'Days after planting', 'Canopy Height (cm)', 'LAI'],\n",
       "      dtype='object')"
      ]
     },
     "execution_count": 4,
     "metadata": {},
     "output_type": "execute_result"
    }
   ],
   "source": [
    "# check column names of the dataset\n",
    "data.columns"
   ]
  },
  {
   "cell_type": "code",
   "execution_count": 5,
   "metadata": {},
   "outputs": [
    {
     "data": {
      "text/html": [
       "<div>\n",
       "<style scoped>\n",
       "    .dataframe tbody tr th:only-of-type {\n",
       "        vertical-align: middle;\n",
       "    }\n",
       "\n",
       "    .dataframe tbody tr th {\n",
       "        vertical-align: top;\n",
       "    }\n",
       "\n",
       "    .dataframe thead th {\n",
       "        text-align: right;\n",
       "    }\n",
       "</style>\n",
       "<table border=\"1\" class=\"dataframe\">\n",
       "  <thead>\n",
       "    <tr style=\"text-align: right;\">\n",
       "      <th></th>\n",
       "      <th>Replicate</th>\n",
       "      <th>Zone_Identification</th>\n",
       "      <th>Cover_Crop_Variety</th>\n",
       "      <th>NDWI</th>\n",
       "      <th>EVI</th>\n",
       "      <th>NAVI</th>\n",
       "      <th>GNDVI</th>\n",
       "      <th>Cigreen</th>\n",
       "      <th>RENDVI</th>\n",
       "      <th>TGI</th>\n",
       "      <th>...</th>\n",
       "      <th>VARI</th>\n",
       "      <th>HUE</th>\n",
       "      <th>BGI</th>\n",
       "      <th>PSRI</th>\n",
       "      <th>RVI</th>\n",
       "      <th>TVI</th>\n",
       "      <th>CVI</th>\n",
       "      <th>NDVI</th>\n",
       "      <th>DVI</th>\n",
       "      <th>Soy_yiled(bu/acre)</th>\n",
       "    </tr>\n",
       "  </thead>\n",
       "  <tbody>\n",
       "    <tr>\n",
       "      <th>0</th>\n",
       "      <td>1</td>\n",
       "      <td>12\"\" Cut</td>\n",
       "      <td>Triticale (TR)</td>\n",
       "      <td>-0.184036</td>\n",
       "      <td>0.115173</td>\n",
       "      <td>0.189628</td>\n",
       "      <td>0.184036</td>\n",
       "      <td>0.454413</td>\n",
       "      <td>0.048335</td>\n",
       "      <td>2.491183</td>\n",
       "      <td>...</td>\n",
       "      <td>-0.123967</td>\n",
       "      <td>0.001565</td>\n",
       "      <td>0.765767</td>\n",
       "      <td>0.132600</td>\n",
       "      <td>1.236684</td>\n",
       "      <td>2.960273</td>\n",
       "      <td>1.712160</td>\n",
       "      <td>0.105216</td>\n",
       "      <td>0.041239</td>\n",
       "      <td>66.73</td>\n",
       "    </tr>\n",
       "    <tr>\n",
       "      <th>1</th>\n",
       "      <td>1</td>\n",
       "      <td>12\"\" Cut</td>\n",
       "      <td>Cereal Rye+ Black Oat+ Triticale (CR+BO+TR)</td>\n",
       "      <td>-0.180077</td>\n",
       "      <td>0.113556</td>\n",
       "      <td>0.184759</td>\n",
       "      <td>0.180077</td>\n",
       "      <td>0.442328</td>\n",
       "      <td>0.043734</td>\n",
       "      <td>2.593134</td>\n",
       "      <td>...</td>\n",
       "      <td>-0.122405</td>\n",
       "      <td>0.001630</td>\n",
       "      <td>0.765593</td>\n",
       "      <td>0.130579</td>\n",
       "      <td>1.229085</td>\n",
       "      <td>2.904267</td>\n",
       "      <td>1.694055</td>\n",
       "      <td>0.102217</td>\n",
       "      <td>0.038293</td>\n",
       "      <td>54.65</td>\n",
       "    </tr>\n",
       "    <tr>\n",
       "      <th>2</th>\n",
       "      <td>1</td>\n",
       "      <td>12\"\" Cut</td>\n",
       "      <td>Black Oat (BO)</td>\n",
       "      <td>-0.170547</td>\n",
       "      <td>0.101767</td>\n",
       "      <td>0.165882</td>\n",
       "      <td>0.170547</td>\n",
       "      <td>0.413386</td>\n",
       "      <td>0.037456</td>\n",
       "      <td>2.643563</td>\n",
       "      <td>...</td>\n",
       "      <td>-0.124985</td>\n",
       "      <td>0.001800</td>\n",
       "      <td>0.765344</td>\n",
       "      <td>0.134701</td>\n",
       "      <td>1.200309</td>\n",
       "      <td>2.315448</td>\n",
       "      <td>1.665547</td>\n",
       "      <td>0.090710</td>\n",
       "      <td>0.033462</td>\n",
       "      <td>56.88</td>\n",
       "    </tr>\n",
       "    <tr>\n",
       "      <th>3</th>\n",
       "      <td>1</td>\n",
       "      <td>12\"\" Cut</td>\n",
       "      <td>Cereal Rye+ Crimson Clover+ Kale (CR+CC+KA)</td>\n",
       "      <td>-0.192279</td>\n",
       "      <td>0.119973</td>\n",
       "      <td>0.199392</td>\n",
       "      <td>0.192279</td>\n",
       "      <td>0.479366</td>\n",
       "      <td>0.044786</td>\n",
       "      <td>2.429277</td>\n",
       "      <td>...</td>\n",
       "      <td>-0.127238</td>\n",
       "      <td>0.001557</td>\n",
       "      <td>0.762464</td>\n",
       "      <td>0.133726</td>\n",
       "      <td>1.252164</td>\n",
       "      <td>3.167063</td>\n",
       "      <td>1.749084</td>\n",
       "      <td>0.111270</td>\n",
       "      <td>0.038114</td>\n",
       "      <td>56.05</td>\n",
       "    </tr>\n",
       "    <tr>\n",
       "      <th>4</th>\n",
       "      <td>1</td>\n",
       "      <td>12\"\" Cut</td>\n",
       "      <td>NC</td>\n",
       "      <td>-0.163843</td>\n",
       "      <td>0.084100</td>\n",
       "      <td>0.145183</td>\n",
       "      <td>0.163843</td>\n",
       "      <td>0.394377</td>\n",
       "      <td>0.032093</td>\n",
       "      <td>2.440546</td>\n",
       "      <td>...</td>\n",
       "      <td>-0.132432</td>\n",
       "      <td>0.001773</td>\n",
       "      <td>0.762492</td>\n",
       "      <td>0.144659</td>\n",
       "      <td>1.171546</td>\n",
       "      <td>1.422839</td>\n",
       "      <td>1.660871</td>\n",
       "      <td>0.078602</td>\n",
       "      <td>0.026899</td>\n",
       "      <td>51.59</td>\n",
       "    </tr>\n",
       "  </tbody>\n",
       "</table>\n",
       "<p>5 rows × 27 columns</p>\n",
       "</div>"
      ],
      "text/plain": [
       "   Replicate Zone_Identification                           Cover_Crop_Variety  \\\n",
       "0          1            12\"\" Cut                               Triticale (TR)   \n",
       "1          1            12\"\" Cut  Cereal Rye+ Black Oat+ Triticale (CR+BO+TR)   \n",
       "2          1            12\"\" Cut                               Black Oat (BO)   \n",
       "3          1            12\"\" Cut  Cereal Rye+ Crimson Clover+ Kale (CR+CC+KA)   \n",
       "4          1            12\"\" Cut                                           NC   \n",
       "\n",
       "       NDWI       EVI      NAVI     GNDVI   Cigreen    RENDVI       TGI  ...  \\\n",
       "0 -0.184036  0.115173  0.189628  0.184036  0.454413  0.048335  2.491183  ...   \n",
       "1 -0.180077  0.113556  0.184759  0.180077  0.442328  0.043734  2.593134  ...   \n",
       "2 -0.170547  0.101767  0.165882  0.170547  0.413386  0.037456  2.643563  ...   \n",
       "3 -0.192279  0.119973  0.199392  0.192279  0.479366  0.044786  2.429277  ...   \n",
       "4 -0.163843  0.084100  0.145183  0.163843  0.394377  0.032093  2.440546  ...   \n",
       "\n",
       "       VARI       HUE       BGI      PSRI       RVI       TVI       CVI  \\\n",
       "0 -0.123967  0.001565  0.765767  0.132600  1.236684  2.960273  1.712160   \n",
       "1 -0.122405  0.001630  0.765593  0.130579  1.229085  2.904267  1.694055   \n",
       "2 -0.124985  0.001800  0.765344  0.134701  1.200309  2.315448  1.665547   \n",
       "3 -0.127238  0.001557  0.762464  0.133726  1.252164  3.167063  1.749084   \n",
       "4 -0.132432  0.001773  0.762492  0.144659  1.171546  1.422839  1.660871   \n",
       "\n",
       "       NDVI       DVI  Soy_yiled(bu/acre)  \n",
       "0  0.105216  0.041239               66.73  \n",
       "1  0.102217  0.038293               54.65  \n",
       "2  0.090710  0.033462               56.88  \n",
       "3  0.111270  0.038114               56.05  \n",
       "4  0.078602  0.026899               51.59  \n",
       "\n",
       "[5 rows x 27 columns]"
      ]
     },
     "execution_count": 5,
     "metadata": {},
     "output_type": "execute_result"
    }
   ],
   "source": [
    "# slice data for columns needed\n",
    "slice_data = data[['Replicate','Zone_Identification', 'Cover_Crop_Variety','NDWI', 'EVI', 'NAVI', 'GNDVI', 'Cigreen', 'RENDVI', 'TGI', 'SAVI',\n",
    "       'CI_RedEdge', 'BI', 'SCI', 'GLI', 'NGRDI_Zonal', 'SI', 'VARI', 'HUE',\n",
    "       'BGI', 'PSRI', 'RVI', 'TVI', 'CVI', 'NDVI', 'DVI', 'Soy_yiled(bu/acre)']]\n",
    "slice_data.head()"
   ]
  },
  {
   "cell_type": "code",
   "execution_count": null,
   "metadata": {},
   "outputs": [],
   "source": [
    "# Summary stats of dependent variable: DVI"
   ]
  },
  {
   "cell_type": "code",
   "execution_count": 30,
   "metadata": {},
   "outputs": [
    {
     "name": "stdout",
     "output_type": "stream",
     "text": [
      "\n",
      "\n"
     ]
    },
    {
     "data": {
      "text/html": [
       "<div>\n",
       "<style scoped>\n",
       "    .dataframe tbody tr th:only-of-type {\n",
       "        vertical-align: middle;\n",
       "    }\n",
       "\n",
       "    .dataframe tbody tr th {\n",
       "        vertical-align: top;\n",
       "    }\n",
       "\n",
       "    .dataframe thead th {\n",
       "        text-align: right;\n",
       "    }\n",
       "</style>\n",
       "<table border=\"1\" class=\"dataframe\">\n",
       "  <thead>\n",
       "    <tr style=\"text-align: right;\">\n",
       "      <th></th>\n",
       "      <th>Variable</th>\n",
       "      <th>N</th>\n",
       "      <th>Mean</th>\n",
       "      <th>SD</th>\n",
       "      <th>SE</th>\n",
       "      <th>95% Conf.</th>\n",
       "      <th>Interval</th>\n",
       "    </tr>\n",
       "  </thead>\n",
       "  <tbody>\n",
       "    <tr>\n",
       "      <th>0</th>\n",
       "      <td>DVI</td>\n",
       "      <td>1920.0</td>\n",
       "      <td>0.1889</td>\n",
       "      <td>0.1469</td>\n",
       "      <td>0.0034</td>\n",
       "      <td>0.1823</td>\n",
       "      <td>0.1954</td>\n",
       "    </tr>\n",
       "  </tbody>\n",
       "</table>\n",
       "</div>"
      ],
      "text/plain": [
       "  Variable       N    Mean      SD      SE  95% Conf.  Interval\n",
       "0      DVI  1920.0  0.1889  0.1469  0.0034     0.1823    0.1954"
      ]
     },
     "execution_count": 30,
     "metadata": {},
     "output_type": "execute_result"
    }
   ],
   "source": [
    "rp.summary_cont(data['DVI'])"
   ]
  },
  {
   "cell_type": "code",
   "execution_count": null,
   "metadata": {},
   "outputs": [],
   "source": [
    "# Summary stats of dependent variable: DVI for each zone_identification level"
   ]
  },
  {
   "cell_type": "code",
   "execution_count": 31,
   "metadata": {},
   "outputs": [
    {
     "name": "stdout",
     "output_type": "stream",
     "text": [
      "\n",
      "\n"
     ]
    },
    {
     "data": {
      "text/html": [
       "<div>\n",
       "<style scoped>\n",
       "    .dataframe tbody tr th:only-of-type {\n",
       "        vertical-align: middle;\n",
       "    }\n",
       "\n",
       "    .dataframe tbody tr th {\n",
       "        vertical-align: top;\n",
       "    }\n",
       "\n",
       "    .dataframe thead th {\n",
       "        text-align: right;\n",
       "    }\n",
       "</style>\n",
       "<table border=\"1\" class=\"dataframe\">\n",
       "  <thead>\n",
       "    <tr style=\"text-align: right;\">\n",
       "      <th></th>\n",
       "      <th>N</th>\n",
       "      <th>Mean</th>\n",
       "      <th>SD</th>\n",
       "      <th>SE</th>\n",
       "      <th>95% Conf.</th>\n",
       "      <th>Interval</th>\n",
       "    </tr>\n",
       "    <tr>\n",
       "      <th>Zone_Identification</th>\n",
       "      <th></th>\n",
       "      <th></th>\n",
       "      <th></th>\n",
       "      <th></th>\n",
       "      <th></th>\n",
       "      <th></th>\n",
       "    </tr>\n",
       "  </thead>\n",
       "  <tbody>\n",
       "    <tr>\n",
       "      <th>12\"\" Cut</th>\n",
       "      <td>384</td>\n",
       "      <td>0.1267</td>\n",
       "      <td>0.0931</td>\n",
       "      <td>0.0048</td>\n",
       "      <td>0.1174</td>\n",
       "      <td>0.1360</td>\n",
       "    </tr>\n",
       "    <tr>\n",
       "      <th>12\"\" Fill</th>\n",
       "      <td>384</td>\n",
       "      <td>0.2093</td>\n",
       "      <td>0.1538</td>\n",
       "      <td>0.0079</td>\n",
       "      <td>0.1938</td>\n",
       "      <td>0.2247</td>\n",
       "    </tr>\n",
       "    <tr>\n",
       "      <th>6\"\" Cut</th>\n",
       "      <td>384</td>\n",
       "      <td>0.1761</td>\n",
       "      <td>0.1364</td>\n",
       "      <td>0.0070</td>\n",
       "      <td>0.1624</td>\n",
       "      <td>0.1898</td>\n",
       "    </tr>\n",
       "    <tr>\n",
       "      <th>6\"\" Fill</th>\n",
       "      <td>384</td>\n",
       "      <td>0.2208</td>\n",
       "      <td>0.1591</td>\n",
       "      <td>0.0081</td>\n",
       "      <td>0.2049</td>\n",
       "      <td>0.2368</td>\n",
       "    </tr>\n",
       "    <tr>\n",
       "      <th>No Fill No Cut</th>\n",
       "      <td>384</td>\n",
       "      <td>0.2115</td>\n",
       "      <td>0.1607</td>\n",
       "      <td>0.0082</td>\n",
       "      <td>0.1954</td>\n",
       "      <td>0.2276</td>\n",
       "    </tr>\n",
       "  </tbody>\n",
       "</table>\n",
       "</div>"
      ],
      "text/plain": [
       "                       N    Mean      SD      SE  95% Conf.  Interval\n",
       "Zone_Identification                                                  \n",
       "12\"\" Cut             384  0.1267  0.0931  0.0048     0.1174    0.1360\n",
       "12\"\" Fill            384  0.2093  0.1538  0.0079     0.1938    0.2247\n",
       "6\"\" Cut              384  0.1761  0.1364  0.0070     0.1624    0.1898\n",
       "6\"\" Fill             384  0.2208  0.1591  0.0081     0.2049    0.2368\n",
       "No Fill No Cut       384  0.2115  0.1607  0.0082     0.1954    0.2276"
      ]
     },
     "execution_count": 31,
     "metadata": {},
     "output_type": "execute_result"
    }
   ],
   "source": [
    "rp.summary_cont(data['DVI'].groupby(data['Zone_Identification']))"
   ]
  },
  {
   "cell_type": "markdown",
   "metadata": {},
   "source": [
    "#                              1 way ANOVA for Zone_identification\n",
    "\n",
    "## 1 way ANOVA tests effect of 1 independent variable on 1 dependant variable \n",
    "H0: The mean value of DVI is same across different Zone_Identification levels or there is no significant effect of Zone_Identification on the mean of DVI\n",
    "Ha: The mean value of DVI is not same across different Zone_Identification levels or there is significant effect of Zone_Identification level on the mean of DVI"
   ]
  },
  {
   "cell_type": "markdown",
   "metadata": {},
   "source": [
    "## ONE-WAY ANOVA USING SCIPY.STATS"
   ]
  },
  {
   "cell_type": "code",
   "execution_count": 32,
   "metadata": {},
   "outputs": [
    {
     "name": "stdout",
     "output_type": "stream",
     "text": [
      "for DVI: F_onewayResult(statistic=28.105762541861807, pvalue=1.0245070228905004e-22)\n"
     ]
    }
   ],
   "source": [
    "# import library, method\n",
    "import scipy.stats as sts\n",
    "\n",
    "# one way ANOVA \n",
    "one_way=sts.f_oneway(data['DVI'][data['Zone_Identification']=='12\"\" Cut'],\n",
    "             data['DVI'][data['Zone_Identification']=='12\"\" Fill'],\n",
    "             data['DVI'][data['Zone_Identification']=='6\"\" Cut'],\n",
    "             data['DVI'][data['Zone_Identification']=='6\"\" Fill'],\n",
    "             data['DVI'][data['Zone_Identification']=='No Fill No Cut'])\n",
    "\n",
    "print('for DVI:' ,one_way)"
   ]
  },
  {
   "cell_type": "markdown",
   "metadata": {},
   "source": [
    "## Interpretation of 1 way ANOVA for DVI at different Zone_levels\n",
    "\n",
    "Since pvalue (1.02) is way higher than critical value (α=0.05), I fail to reject the null hypothesis of equal DVI means and conclude that there is no statistically significant difference among the DVI values with different Zone_Identification levels."
   ]
  },
  {
   "cell_type": "raw",
   "metadata": {},
   "source": [
    "\n",
    "\n"
   ]
  },
  {
   "cell_type": "markdown",
   "metadata": {},
   "source": [
    "#  1 way ANOVA for Cover_Crop_Variety"
   ]
  },
  {
   "cell_type": "code",
   "execution_count": 45,
   "metadata": {},
   "outputs": [],
   "source": [
    "### 1 way ANOVA for yield"
   ]
  },
  {
   "cell_type": "code",
   "execution_count": 46,
   "metadata": {},
   "outputs": [
    {
     "name": "stdout",
     "output_type": "stream",
     "text": [
      "\n",
      "\n"
     ]
    },
    {
     "data": {
      "text/html": [
       "<div>\n",
       "<style scoped>\n",
       "    .dataframe tbody tr th:only-of-type {\n",
       "        vertical-align: middle;\n",
       "    }\n",
       "\n",
       "    .dataframe tbody tr th {\n",
       "        vertical-align: top;\n",
       "    }\n",
       "\n",
       "    .dataframe thead th {\n",
       "        text-align: right;\n",
       "    }\n",
       "</style>\n",
       "<table border=\"1\" class=\"dataframe\">\n",
       "  <thead>\n",
       "    <tr style=\"text-align: right;\">\n",
       "      <th></th>\n",
       "      <th>Variable</th>\n",
       "      <th>N</th>\n",
       "      <th>Mean</th>\n",
       "      <th>SD</th>\n",
       "      <th>SE</th>\n",
       "      <th>95% Conf.</th>\n",
       "      <th>Interval</th>\n",
       "    </tr>\n",
       "  </thead>\n",
       "  <tbody>\n",
       "    <tr>\n",
       "      <th>0</th>\n",
       "      <td>Soy_yiled(bu/acre)</td>\n",
       "      <td>1920.0</td>\n",
       "      <td>50.8671</td>\n",
       "      <td>5.443</td>\n",
       "      <td>0.1242</td>\n",
       "      <td>50.6235</td>\n",
       "      <td>51.1107</td>\n",
       "    </tr>\n",
       "  </tbody>\n",
       "</table>\n",
       "</div>"
      ],
      "text/plain": [
       "             Variable       N     Mean     SD      SE  95% Conf.  Interval\n",
       "0  Soy_yiled(bu/acre)  1920.0  50.8671  5.443  0.1242    50.6235   51.1107"
      ]
     },
     "execution_count": 46,
     "metadata": {},
     "output_type": "execute_result"
    }
   ],
   "source": [
    "rp.summary_cont(data['Soy_yiled(bu/acre)'])"
   ]
  },
  {
   "cell_type": "code",
   "execution_count": 47,
   "metadata": {},
   "outputs": [
    {
     "name": "stdout",
     "output_type": "stream",
     "text": [
      "\n",
      "\n"
     ]
    },
    {
     "data": {
      "text/html": [
       "<div>\n",
       "<style scoped>\n",
       "    .dataframe tbody tr th:only-of-type {\n",
       "        vertical-align: middle;\n",
       "    }\n",
       "\n",
       "    .dataframe tbody tr th {\n",
       "        vertical-align: top;\n",
       "    }\n",
       "\n",
       "    .dataframe thead th {\n",
       "        text-align: right;\n",
       "    }\n",
       "</style>\n",
       "<table border=\"1\" class=\"dataframe\">\n",
       "  <thead>\n",
       "    <tr style=\"text-align: right;\">\n",
       "      <th></th>\n",
       "      <th>N</th>\n",
       "      <th>Mean</th>\n",
       "      <th>SD</th>\n",
       "      <th>SE</th>\n",
       "      <th>95% Conf.</th>\n",
       "      <th>Interval</th>\n",
       "    </tr>\n",
       "    <tr>\n",
       "      <th>Cover_Crop_Variety</th>\n",
       "      <th></th>\n",
       "      <th></th>\n",
       "      <th></th>\n",
       "      <th></th>\n",
       "      <th></th>\n",
       "      <th></th>\n",
       "    </tr>\n",
       "  </thead>\n",
       "  <tbody>\n",
       "    <tr>\n",
       "      <th>Black Oat (BO)</th>\n",
       "      <td>320</td>\n",
       "      <td>48.4075</td>\n",
       "      <td>6.4829</td>\n",
       "      <td>0.3624</td>\n",
       "      <td>47.6945</td>\n",
       "      <td>49.1205</td>\n",
       "    </tr>\n",
       "    <tr>\n",
       "      <th>Cereal Rye (CR)</th>\n",
       "      <td>320</td>\n",
       "      <td>51.5275</td>\n",
       "      <td>3.1809</td>\n",
       "      <td>0.1778</td>\n",
       "      <td>51.1777</td>\n",
       "      <td>51.8773</td>\n",
       "    </tr>\n",
       "    <tr>\n",
       "      <th>Cereal Rye+ Black Oat+ Triticale (CR+BO+TR)</th>\n",
       "      <td>320</td>\n",
       "      <td>51.2250</td>\n",
       "      <td>2.8918</td>\n",
       "      <td>0.1617</td>\n",
       "      <td>50.9070</td>\n",
       "      <td>51.5430</td>\n",
       "    </tr>\n",
       "    <tr>\n",
       "      <th>Cereal Rye+ Crimson Clover+ Kale (CR+CC+KA)</th>\n",
       "      <td>320</td>\n",
       "      <td>51.7825</td>\n",
       "      <td>3.1259</td>\n",
       "      <td>0.1747</td>\n",
       "      <td>51.4387</td>\n",
       "      <td>52.1263</td>\n",
       "    </tr>\n",
       "    <tr>\n",
       "      <th>NC</th>\n",
       "      <td>320</td>\n",
       "      <td>48.1425</td>\n",
       "      <td>3.4117</td>\n",
       "      <td>0.1907</td>\n",
       "      <td>47.7673</td>\n",
       "      <td>48.5177</td>\n",
       "    </tr>\n",
       "    <tr>\n",
       "      <th>Triticale (TR)</th>\n",
       "      <td>320</td>\n",
       "      <td>54.1175</td>\n",
       "      <td>8.4131</td>\n",
       "      <td>0.4703</td>\n",
       "      <td>53.1922</td>\n",
       "      <td>55.0428</td>\n",
       "    </tr>\n",
       "  </tbody>\n",
       "</table>\n",
       "</div>"
      ],
      "text/plain": [
       "                                               N     Mean      SD      SE  \\\n",
       "Cover_Crop_Variety                                                          \n",
       "Black Oat (BO)                               320  48.4075  6.4829  0.3624   \n",
       "Cereal Rye (CR)                              320  51.5275  3.1809  0.1778   \n",
       "Cereal Rye+ Black Oat+ Triticale (CR+BO+TR)  320  51.2250  2.8918  0.1617   \n",
       "Cereal Rye+ Crimson Clover+ Kale (CR+CC+KA)  320  51.7825  3.1259  0.1747   \n",
       "NC                                           320  48.1425  3.4117  0.1907   \n",
       "Triticale (TR)                               320  54.1175  8.4131  0.4703   \n",
       "\n",
       "                                             95% Conf.  Interval  \n",
       "Cover_Crop_Variety                                                \n",
       "Black Oat (BO)                                 47.6945   49.1205  \n",
       "Cereal Rye (CR)                                51.1777   51.8773  \n",
       "Cereal Rye+ Black Oat+ Triticale (CR+BO+TR)    50.9070   51.5430  \n",
       "Cereal Rye+ Crimson Clover+ Kale (CR+CC+KA)    51.4387   52.1263  \n",
       "NC                                             47.7673   48.5177  \n",
       "Triticale (TR)                                 53.1922   55.0428  "
      ]
     },
     "execution_count": 47,
     "metadata": {},
     "output_type": "execute_result"
    }
   ],
   "source": [
    "rp.summary_cont(data['Soy_yiled(bu/acre)'].groupby(data['Cover_Crop_Variety']))"
   ]
  },
  {
   "cell_type": "code",
   "execution_count": 48,
   "metadata": {},
   "outputs": [
    {
     "name": "stdout",
     "output_type": "stream",
     "text": [
      "for Soy_yiled(bu/acre): F_onewayResult(statistic=63.97628964498815, pvalue=7.152071500450915e-62)\n"
     ]
    }
   ],
   "source": [
    "import scipy.stats as sts\n",
    "\n",
    "one_way=sts.f_oneway(data['Soy_yiled(bu/acre)'][data['Cover_Crop_Variety']=='Black Oat (BO)'],\n",
    "             data['Soy_yiled(bu/acre)'][data['Cover_Crop_Variety']=='Cereal Rye (CR)'],\n",
    "             data['Soy_yiled(bu/acre)'][data['Cover_Crop_Variety']=='Cereal Rye+ Black Oat+ Triticale (CR+BO+TR)'],\n",
    "             data['Soy_yiled(bu/acre)'][data['Cover_Crop_Variety']=='Cereal Rye+ Crimson Clover+ Kale (CR+CC+KA)'],\n",
    "             data['Soy_yiled(bu/acre)'][data['Cover_Crop_Variety']=='NC'],\n",
    "             data['Soy_yiled(bu/acre)'][data['Cover_Crop_Variety']=='Triticale (TR)'])\n",
    "\n",
    "print('for Soy_yiled(bu/acre):' ,one_way)"
   ]
  },
  {
   "cell_type": "code",
   "execution_count": null,
   "metadata": {},
   "outputs": [],
   "source": [
    "### 1 way ANOVA for NDWI\n",
    "\n",
    "# 1 way ANOVA tests effect of 1 independent variable on 1 dependant variable \n",
    "H0: The mean value of NDWI is same across different Cover_Crop_Variety or there is no significant effect of Cover_Crop_Variety on the mean of NDWI\n",
    "Ha: The mean value of NDWI is not same across different Cover_Crop_Varieties or there is significant effect of Cover_Crop_Variety on the mean of NDWI"
   ]
  },
  {
   "cell_type": "code",
   "execution_count": 33,
   "metadata": {},
   "outputs": [
    {
     "name": "stdout",
     "output_type": "stream",
     "text": [
      "\n",
      "\n"
     ]
    },
    {
     "data": {
      "text/html": [
       "<div>\n",
       "<style scoped>\n",
       "    .dataframe tbody tr th:only-of-type {\n",
       "        vertical-align: middle;\n",
       "    }\n",
       "\n",
       "    .dataframe tbody tr th {\n",
       "        vertical-align: top;\n",
       "    }\n",
       "\n",
       "    .dataframe thead th {\n",
       "        text-align: right;\n",
       "    }\n",
       "</style>\n",
       "<table border=\"1\" class=\"dataframe\">\n",
       "  <thead>\n",
       "    <tr style=\"text-align: right;\">\n",
       "      <th></th>\n",
       "      <th>Variable</th>\n",
       "      <th>N</th>\n",
       "      <th>Mean</th>\n",
       "      <th>SD</th>\n",
       "      <th>SE</th>\n",
       "      <th>95% Conf.</th>\n",
       "      <th>Interval</th>\n",
       "    </tr>\n",
       "  </thead>\n",
       "  <tbody>\n",
       "    <tr>\n",
       "      <th>0</th>\n",
       "      <td>NDWI</td>\n",
       "      <td>1920.0</td>\n",
       "      <td>-0.4935</td>\n",
       "      <td>0.2443</td>\n",
       "      <td>0.0056</td>\n",
       "      <td>-0.5044</td>\n",
       "      <td>-0.4825</td>\n",
       "    </tr>\n",
       "  </tbody>\n",
       "</table>\n",
       "</div>"
      ],
      "text/plain": [
       "  Variable       N    Mean      SD      SE  95% Conf.  Interval\n",
       "0     NDWI  1920.0 -0.4935  0.2443  0.0056    -0.5044   -0.4825"
      ]
     },
     "execution_count": 33,
     "metadata": {},
     "output_type": "execute_result"
    }
   ],
   "source": [
    "rp.summary_cont(data['NDWI'])"
   ]
  },
  {
   "cell_type": "code",
   "execution_count": 34,
   "metadata": {},
   "outputs": [
    {
     "name": "stdout",
     "output_type": "stream",
     "text": [
      "\n",
      "\n"
     ]
    },
    {
     "data": {
      "text/html": [
       "<div>\n",
       "<style scoped>\n",
       "    .dataframe tbody tr th:only-of-type {\n",
       "        vertical-align: middle;\n",
       "    }\n",
       "\n",
       "    .dataframe tbody tr th {\n",
       "        vertical-align: top;\n",
       "    }\n",
       "\n",
       "    .dataframe thead th {\n",
       "        text-align: right;\n",
       "    }\n",
       "</style>\n",
       "<table border=\"1\" class=\"dataframe\">\n",
       "  <thead>\n",
       "    <tr style=\"text-align: right;\">\n",
       "      <th></th>\n",
       "      <th>N</th>\n",
       "      <th>Mean</th>\n",
       "      <th>SD</th>\n",
       "      <th>SE</th>\n",
       "      <th>95% Conf.</th>\n",
       "      <th>Interval</th>\n",
       "    </tr>\n",
       "    <tr>\n",
       "      <th>Cover_Crop_Variety</th>\n",
       "      <th></th>\n",
       "      <th></th>\n",
       "      <th></th>\n",
       "      <th></th>\n",
       "      <th></th>\n",
       "      <th></th>\n",
       "    </tr>\n",
       "  </thead>\n",
       "  <tbody>\n",
       "    <tr>\n",
       "      <th>Black Oat (BO)</th>\n",
       "      <td>320</td>\n",
       "      <td>-0.4818</td>\n",
       "      <td>0.2468</td>\n",
       "      <td>0.0138</td>\n",
       "      <td>-0.5089</td>\n",
       "      <td>-0.4546</td>\n",
       "    </tr>\n",
       "    <tr>\n",
       "      <th>Cereal Rye (CR)</th>\n",
       "      <td>320</td>\n",
       "      <td>-0.5026</td>\n",
       "      <td>0.2419</td>\n",
       "      <td>0.0135</td>\n",
       "      <td>-0.5292</td>\n",
       "      <td>-0.4760</td>\n",
       "    </tr>\n",
       "    <tr>\n",
       "      <th>Cereal Rye+ Black Oat+ Triticale (CR+BO+TR)</th>\n",
       "      <td>320</td>\n",
       "      <td>-0.5014</td>\n",
       "      <td>0.2396</td>\n",
       "      <td>0.0134</td>\n",
       "      <td>-0.5277</td>\n",
       "      <td>-0.4750</td>\n",
       "    </tr>\n",
       "    <tr>\n",
       "      <th>Cereal Rye+ Crimson Clover+ Kale (CR+CC+KA)</th>\n",
       "      <td>320</td>\n",
       "      <td>-0.4968</td>\n",
       "      <td>0.2382</td>\n",
       "      <td>0.0133</td>\n",
       "      <td>-0.5230</td>\n",
       "      <td>-0.4706</td>\n",
       "    </tr>\n",
       "    <tr>\n",
       "      <th>NC</th>\n",
       "      <td>320</td>\n",
       "      <td>-0.4770</td>\n",
       "      <td>0.2591</td>\n",
       "      <td>0.0145</td>\n",
       "      <td>-0.5055</td>\n",
       "      <td>-0.4486</td>\n",
       "    </tr>\n",
       "    <tr>\n",
       "      <th>Triticale (TR)</th>\n",
       "      <td>320</td>\n",
       "      <td>-0.5012</td>\n",
       "      <td>0.2404</td>\n",
       "      <td>0.0134</td>\n",
       "      <td>-0.5277</td>\n",
       "      <td>-0.4748</td>\n",
       "    </tr>\n",
       "  </tbody>\n",
       "</table>\n",
       "</div>"
      ],
      "text/plain": [
       "                                               N    Mean      SD      SE  \\\n",
       "Cover_Crop_Variety                                                         \n",
       "Black Oat (BO)                               320 -0.4818  0.2468  0.0138   \n",
       "Cereal Rye (CR)                              320 -0.5026  0.2419  0.0135   \n",
       "Cereal Rye+ Black Oat+ Triticale (CR+BO+TR)  320 -0.5014  0.2396  0.0134   \n",
       "Cereal Rye+ Crimson Clover+ Kale (CR+CC+KA)  320 -0.4968  0.2382  0.0133   \n",
       "NC                                           320 -0.4770  0.2591  0.0145   \n",
       "Triticale (TR)                               320 -0.5012  0.2404  0.0134   \n",
       "\n",
       "                                             95% Conf.  Interval  \n",
       "Cover_Crop_Variety                                                \n",
       "Black Oat (BO)                                 -0.5089   -0.4546  \n",
       "Cereal Rye (CR)                                -0.5292   -0.4760  \n",
       "Cereal Rye+ Black Oat+ Triticale (CR+BO+TR)    -0.5277   -0.4750  \n",
       "Cereal Rye+ Crimson Clover+ Kale (CR+CC+KA)    -0.5230   -0.4706  \n",
       "NC                                             -0.5055   -0.4486  \n",
       "Triticale (TR)                                 -0.5277   -0.4748  "
      ]
     },
     "execution_count": 34,
     "metadata": {},
     "output_type": "execute_result"
    }
   ],
   "source": [
    "rp.summary_cont(data['NDWI'].groupby(data['Cover_Crop_Variety']))"
   ]
  },
  {
   "cell_type": "code",
   "execution_count": 35,
   "metadata": {},
   "outputs": [
    {
     "name": "stdout",
     "output_type": "stream",
     "text": [
      "for NDWI: F_onewayResult(statistic=0.6666747734354044, pvalue=0.6487805490363456)\n"
     ]
    }
   ],
   "source": [
    "import scipy.stats as sts\n",
    "\n",
    "one_way=sts.f_oneway(data['NDWI'][data['Cover_Crop_Variety']=='Black Oat (BO)'],\n",
    "             data['NDWI'][data['Cover_Crop_Variety']=='Cereal Rye (CR)'],\n",
    "             data['NDWI'][data['Cover_Crop_Variety']=='Cereal Rye+ Black Oat+ Triticale (CR+BO+TR)'],\n",
    "             data['NDWI'][data['Cover_Crop_Variety']=='Cereal Rye+ Crimson Clover+ Kale (CR+CC+KA)'],\n",
    "             data['NDWI'][data['Cover_Crop_Variety']=='NC'],\n",
    "             data['NDWI'][data['Cover_Crop_Variety']=='Triticale (TR)'])\n",
    "\n",
    "print('for NDWI:' ,one_way)"
   ]
  },
  {
   "cell_type": "markdown",
   "metadata": {},
   "source": [
    "## Interpretation of 1 way ANOVA for NDWI at different Cover_Crop_Variety\n",
    "\n",
    "### Since pvalue (0.64) is higher than critical value (α=0.05), I fail to reject the null hypothesis of equal NDWI means and conclude that there is no statistically significant difference among the NDWI values with different Cover_Crop_Variety."
   ]
  },
  {
   "cell_type": "code",
   "execution_count": 36,
   "metadata": {},
   "outputs": [
    {
     "name": "stdout",
     "output_type": "stream",
     "text": [
      "for HUE: F_onewayResult(statistic=3.7599051886025916, pvalue=0.0021648369780692474)\n"
     ]
    }
   ],
   "source": [
    "import scipy.stats as sts\n",
    "\n",
    "one_way=sts.f_oneway(data['HUE'][data['Cover_Crop_Variety']=='Black Oat (BO)'],\n",
    "             data['HUE'][data['Cover_Crop_Variety']=='Cereal Rye (CR)'],\n",
    "             data['HUE'][data['Cover_Crop_Variety']=='Cereal Rye+ Black Oat+ Triticale (CR+BO+TR)'],\n",
    "             data['HUE'][data['Cover_Crop_Variety']=='Cereal Rye+ Crimson Clover+ Kale (CR+CC+KA)'],\n",
    "             data['HUE'][data['Cover_Crop_Variety']=='NC'],\n",
    "             data['HUE'][data['Cover_Crop_Variety']=='Triticale (TR)'])\n",
    "\n",
    "print('for HUE:' ,one_way)"
   ]
  },
  {
   "cell_type": "markdown",
   "metadata": {},
   "source": [
    "## Interpretation of 1 way ANOVA for HUE at different Cover_Crop_Variety\n",
    "\n",
    "### Since pvalue (0.002) is less than critical value (α=0.05), I reject the null hypothesis of equal HUE means and conclude that there is statistically significant difference among the HUE values with different Cover_Crop_Variety."
   ]
  },
  {
   "cell_type": "markdown",
   "metadata": {},
   "source": [
    "## Tukey's test\n",
    "\n",
    "If ANOVA is significant, we should use a Tukey Test to find out where the statistical significance is occurring in our data"
   ]
  },
  {
   "cell_type": "code",
   "execution_count": 42,
   "metadata": {},
   "outputs": [
    {
     "name": "stdout",
     "output_type": "stream",
     "text": [
      "            group1          group2  meandiff   p-adj   lower   upper  reject\n",
      "1   MIX (CR+BO+TR)              NO    0.0002  0.0123  0.0000  0.0004    True\n",
      "10              NO        One (CR)   -0.0002  0.0225 -0.0003 -0.0000    True\n",
      "11              NO        One (TR)   -0.0002  0.0171 -0.0003 -0.0000    True\n",
      "0   MIX (CR+BO+TR)  MIX (CR+CC+KA)    0.0000  0.9000 -0.0001  0.0002   False\n",
      "2   MIX (CR+BO+TR)        One (BO)    0.0001  0.1990 -0.0000  0.0003   False\n",
      "3   MIX (CR+BO+TR)        One (CR)    0.0000  0.9000 -0.0002  0.0002   False\n",
      "4   MIX (CR+BO+TR)        One (TR)    0.0000  0.9000 -0.0002  0.0002   False\n",
      "5   MIX (CR+CC+KA)              NO    0.0001  0.1326 -0.0000  0.0003   False\n",
      "6   MIX (CR+CC+KA)        One (BO)    0.0001  0.6699 -0.0001  0.0002   False\n",
      "7   MIX (CR+CC+KA)        One (CR)   -0.0000  0.9000 -0.0002  0.0001   False\n",
      "8   MIX (CR+CC+KA)        One (TR)   -0.0000  0.9000 -0.0002  0.0001   False\n",
      "9               NO        One (BO)   -0.0001  0.9000 -0.0002  0.0001   False\n",
      "12        One (BO)        One (CR)   -0.0001  0.2866 -0.0003  0.0000   False\n",
      "13        One (BO)        One (TR)   -0.0001  0.2431 -0.0003  0.0000   False\n",
      "14        One (CR)        One (TR)   -0.0000  0.9000 -0.0002  0.0002   False\n"
     ]
    }
   ],
   "source": [
    "from statsmodels.stats.multicomp import pairwise_tukeyhsd\n",
    "\n",
    "# perform multiple pairwise comparison (Tukey HSD)\n",
    "m_comp = pairwise_tukeyhsd(endog=data['HUE'], groups=data['One_Mix_None_Cover_Crop'], alpha=0.05)\n",
    "#print(m_comp)\n",
    "df = pd.DataFrame(data=m_comp._results_table.data[1:], columns=m_comp._results_table.data[0])\n",
    "df.sort_values(by='reject', ascending=False, inplace=True)\n",
    "\n",
    "print(df)"
   ]
  },
  {
   "cell_type": "markdown",
   "metadata": {},
   "source": [
    "## Interpretation:\n",
    "    \n",
    "    ### Only differences found among first few groups\n",
    "    \n",
    "    ### For first three cases, reject the null hypothesis (that Group 1 is equal to Group 2 in terms of average HUE value).\n",
    "HUE values are unique for each cover crop just among first three combinations."
   ]
  },
  {
   "cell_type": "raw",
   "metadata": {},
   "source": [
    "\n",
    "\n",
    "\n",
    "\n",
    "\n"
   ]
  },
  {
   "cell_type": "markdown",
   "metadata": {},
   "source": [
    "## TWO-way ANOVA\n",
    "- Use a two-way ANOVA when you want to know how two independent variables, in combination, affect a dependent variable.\n",
    "\n",
    "Here, i am using two-way ANOVA to find out if Cover_Crop_Variety and Zone_Identification have an effect on average values of different vegetative indices\n",
    "\n",
    "1) Null hypothesis (H0):\n",
    "There is no difference in veg indices/NDWI for any Cover_Crop_Variety.\n",
    "There is no difference in veg indices/NDWI for any Zone_Identification.\n",
    "The effect of Cover_Crop_Variety on average veg indices/NDWI does not depend on the effect of the  Zone_Identificatio (a.k.a. no interaction effect).\n",
    "\n",
    "2) Alternate hypothesis (Ha)\n",
    "There is a difference in average veg indices by Cover_Crop_Variety.\n",
    "There is a difference in veg indices for any Zone_Identification.\n",
    "There is an interaction effect between Cover_Crop_Variety and Zone_Identification on average veg indices/NDWI."
   ]
  },
  {
   "cell_type": "code",
   "execution_count": 39,
   "metadata": {},
   "outputs": [
    {
     "name": "stdout",
     "output_type": "stream",
     "text": [
      "for EVI:\n"
     ]
    },
    {
     "data": {
      "text/html": [
       "<div>\n",
       "<style scoped>\n",
       "    .dataframe tbody tr th:only-of-type {\n",
       "        vertical-align: middle;\n",
       "    }\n",
       "\n",
       "    .dataframe tbody tr th {\n",
       "        vertical-align: top;\n",
       "    }\n",
       "\n",
       "    .dataframe thead th {\n",
       "        text-align: right;\n",
       "    }\n",
       "</style>\n",
       "<table border=\"1\" class=\"dataframe\">\n",
       "  <thead>\n",
       "    <tr style=\"text-align: right;\">\n",
       "      <th></th>\n",
       "      <th>sum_sq</th>\n",
       "      <th>df</th>\n",
       "      <th>F</th>\n",
       "      <th>PR(&gt;F)</th>\n",
       "    </tr>\n",
       "  </thead>\n",
       "  <tbody>\n",
       "    <tr>\n",
       "      <th>C(Cover_Crop_Variety)</th>\n",
       "      <td>0.258180</td>\n",
       "      <td>5.0</td>\n",
       "      <td>0.610717</td>\n",
       "      <td>6.917313e-01</td>\n",
       "    </tr>\n",
       "    <tr>\n",
       "      <th>C(Zone_Identification)</th>\n",
       "      <td>10.960484</td>\n",
       "      <td>4.0</td>\n",
       "      <td>32.408370</td>\n",
       "      <td>3.662790e-26</td>\n",
       "    </tr>\n",
       "    <tr>\n",
       "      <th>C(Cover_Crop_Variety):C(Zone_Identification)</th>\n",
       "      <td>0.106969</td>\n",
       "      <td>20.0</td>\n",
       "      <td>0.063258</td>\n",
       "      <td>1.000000e+00</td>\n",
       "    </tr>\n",
       "    <tr>\n",
       "      <th>Residual</th>\n",
       "      <td>159.799107</td>\n",
       "      <td>1890.0</td>\n",
       "      <td>NaN</td>\n",
       "      <td>NaN</td>\n",
       "    </tr>\n",
       "  </tbody>\n",
       "</table>\n",
       "</div>"
      ],
      "text/plain": [
       "                                                  sum_sq      df          F  \\\n",
       "C(Cover_Crop_Variety)                           0.258180     5.0   0.610717   \n",
       "C(Zone_Identification)                         10.960484     4.0  32.408370   \n",
       "C(Cover_Crop_Variety):C(Zone_Identification)    0.106969    20.0   0.063258   \n",
       "Residual                                      159.799107  1890.0        NaN   \n",
       "\n",
       "                                                    PR(>F)  \n",
       "C(Cover_Crop_Variety)                         6.917313e-01  \n",
       "C(Zone_Identification)                        3.662790e-26  \n",
       "C(Cover_Crop_Variety):C(Zone_Identification)  1.000000e+00  \n",
       "Residual                                               NaN  "
      ]
     },
     "execution_count": 39,
     "metadata": {},
     "output_type": "execute_result"
    }
   ],
   "source": [
    "import statsmodels.api as sm\n",
    "from statsmodels.formula.api import ols\n",
    "\n",
    "#perform two-way ANOVA\n",
    "model = ols('EVI ~ C(Cover_Crop_Variety) + C(Zone_Identification) + C(Cover_Crop_Variety):C(Zone_Identification)', data=data).fit()\n",
    "print('for EVI:')\n",
    "sm.stats.anova_lm(model, typ=2)"
   ]
  },
  {
   "cell_type": "code",
   "execution_count": 40,
   "metadata": {},
   "outputs": [
    {
     "name": "stdout",
     "output_type": "stream",
     "text": [
      "for NDWI:\n"
     ]
    },
    {
     "data": {
      "text/html": [
       "<div>\n",
       "<style scoped>\n",
       "    .dataframe tbody tr th:only-of-type {\n",
       "        vertical-align: middle;\n",
       "    }\n",
       "\n",
       "    .dataframe tbody tr th {\n",
       "        vertical-align: top;\n",
       "    }\n",
       "\n",
       "    .dataframe thead th {\n",
       "        text-align: right;\n",
       "    }\n",
       "</style>\n",
       "<table border=\"1\" class=\"dataframe\">\n",
       "  <thead>\n",
       "    <tr style=\"text-align: right;\">\n",
       "      <th></th>\n",
       "      <th>sum_sq</th>\n",
       "      <th>df</th>\n",
       "      <th>F</th>\n",
       "      <th>PR(&gt;F)</th>\n",
       "    </tr>\n",
       "  </thead>\n",
       "  <tbody>\n",
       "    <tr>\n",
       "      <th>C(Cover_Crop_Variety)</th>\n",
       "      <td>0.199174</td>\n",
       "      <td>5.0</td>\n",
       "      <td>0.706087</td>\n",
       "      <td>6.188625e-01</td>\n",
       "    </tr>\n",
       "    <tr>\n",
       "      <th>C(Zone_Identification)</th>\n",
       "      <td>7.680207</td>\n",
       "      <td>4.0</td>\n",
       "      <td>34.033576</td>\n",
       "      <td>1.838424e-27</td>\n",
       "    </tr>\n",
       "    <tr>\n",
       "      <th>C(Cover_Crop_Variety):C(Zone_Identification)</th>\n",
       "      <td>0.057311</td>\n",
       "      <td>20.0</td>\n",
       "      <td>0.050793</td>\n",
       "      <td>1.000000e+00</td>\n",
       "    </tr>\n",
       "    <tr>\n",
       "      <th>Residual</th>\n",
       "      <td>106.626991</td>\n",
       "      <td>1890.0</td>\n",
       "      <td>NaN</td>\n",
       "      <td>NaN</td>\n",
       "    </tr>\n",
       "  </tbody>\n",
       "</table>\n",
       "</div>"
      ],
      "text/plain": [
       "                                                  sum_sq      df          F  \\\n",
       "C(Cover_Crop_Variety)                           0.199174     5.0   0.706087   \n",
       "C(Zone_Identification)                          7.680207     4.0  34.033576   \n",
       "C(Cover_Crop_Variety):C(Zone_Identification)    0.057311    20.0   0.050793   \n",
       "Residual                                      106.626991  1890.0        NaN   \n",
       "\n",
       "                                                    PR(>F)  \n",
       "C(Cover_Crop_Variety)                         6.188625e-01  \n",
       "C(Zone_Identification)                        1.838424e-27  \n",
       "C(Cover_Crop_Variety):C(Zone_Identification)  1.000000e+00  \n",
       "Residual                                               NaN  "
      ]
     },
     "execution_count": 40,
     "metadata": {},
     "output_type": "execute_result"
    }
   ],
   "source": [
    "import statsmodels.api as sm\n",
    "from statsmodels.formula.api import ols\n",
    "\n",
    "#perform two-way ANOVA\n",
    "model = ols('NDWI ~ C(Cover_Crop_Variety) + C(Zone_Identification) + C(Cover_Crop_Variety):C(Zone_Identification)', data=data).fit()\n",
    "print('for NDWI:')\n",
    "sm.stats.anova_lm(model, typ=2)"
   ]
  },
  {
   "cell_type": "code",
   "execution_count": 41,
   "metadata": {},
   "outputs": [
    {
     "name": "stdout",
     "output_type": "stream",
     "text": [
      "for Thermal:\n"
     ]
    },
    {
     "data": {
      "text/html": [
       "<div>\n",
       "<style scoped>\n",
       "    .dataframe tbody tr th:only-of-type {\n",
       "        vertical-align: middle;\n",
       "    }\n",
       "\n",
       "    .dataframe tbody tr th {\n",
       "        vertical-align: top;\n",
       "    }\n",
       "\n",
       "    .dataframe thead th {\n",
       "        text-align: right;\n",
       "    }\n",
       "</style>\n",
       "<table border=\"1\" class=\"dataframe\">\n",
       "  <thead>\n",
       "    <tr style=\"text-align: right;\">\n",
       "      <th></th>\n",
       "      <th>sum_sq</th>\n",
       "      <th>df</th>\n",
       "      <th>F</th>\n",
       "      <th>PR(&gt;F)</th>\n",
       "    </tr>\n",
       "  </thead>\n",
       "  <tbody>\n",
       "    <tr>\n",
       "      <th>C(Cover_Crop_Variety)</th>\n",
       "      <td>22.643553</td>\n",
       "      <td>5.0</td>\n",
       "      <td>0.032586</td>\n",
       "      <td>0.999461</td>\n",
       "    </tr>\n",
       "    <tr>\n",
       "      <th>C(Zone_Identification)</th>\n",
       "      <td>454.869002</td>\n",
       "      <td>4.0</td>\n",
       "      <td>0.818249</td>\n",
       "      <td>0.513397</td>\n",
       "    </tr>\n",
       "    <tr>\n",
       "      <th>C(Cover_Crop_Variety):C(Zone_Identification)</th>\n",
       "      <td>9.681515</td>\n",
       "      <td>20.0</td>\n",
       "      <td>0.003483</td>\n",
       "      <td>1.000000</td>\n",
       "    </tr>\n",
       "    <tr>\n",
       "      <th>Residual</th>\n",
       "      <td>262665.201791</td>\n",
       "      <td>1890.0</td>\n",
       "      <td>NaN</td>\n",
       "      <td>NaN</td>\n",
       "    </tr>\n",
       "  </tbody>\n",
       "</table>\n",
       "</div>"
      ],
      "text/plain": [
       "                                                     sum_sq      df         F  \\\n",
       "C(Cover_Crop_Variety)                             22.643553     5.0  0.032586   \n",
       "C(Zone_Identification)                           454.869002     4.0  0.818249   \n",
       "C(Cover_Crop_Variety):C(Zone_Identification)       9.681515    20.0  0.003483   \n",
       "Residual                                      262665.201791  1890.0       NaN   \n",
       "\n",
       "                                                PR(>F)  \n",
       "C(Cover_Crop_Variety)                         0.999461  \n",
       "C(Zone_Identification)                        0.513397  \n",
       "C(Cover_Crop_Variety):C(Zone_Identification)  1.000000  \n",
       "Residual                                           NaN  "
      ]
     },
     "execution_count": 41,
     "metadata": {},
     "output_type": "execute_result"
    }
   ],
   "source": [
    "import statsmodels.api as sm\n",
    "from statsmodels.formula.api import ols\n",
    "\n",
    "#perform two-way ANOVA\n",
    "model = ols('Thermal ~ C(Cover_Crop_Variety) + C(Zone_Identification) + C(Cover_Crop_Variety):C(Zone_Identification)', data=data).fit()\n",
    "print('for Thermal:')\n",
    "sm.stats.anova_lm(model, typ=2)"
   ]
  },
  {
   "cell_type": "markdown",
   "metadata": {},
   "source": [
    "# Interpretation of two-way ANOVA\n",
    "\n",
    "Since P-value is gretaer than critical value (0.05), I fail to reject the null hypothesis that the mean vegetative index is equal among Cover crop/Zone identification combinations."
   ]
  },
  {
   "cell_type": "code",
   "execution_count": null,
   "metadata": {},
   "outputs": [],
   "source": []
  },
  {
   "cell_type": "code",
   "execution_count": null,
   "metadata": {},
   "outputs": [],
   "source": []
  },
  {
   "cell_type": "code",
   "execution_count": null,
   "metadata": {},
   "outputs": [],
   "source": []
  },
  {
   "cell_type": "code",
   "execution_count": null,
   "metadata": {},
   "outputs": [],
   "source": []
  },
  {
   "cell_type": "code",
   "execution_count": null,
   "metadata": {},
   "outputs": [],
   "source": []
  },
  {
   "cell_type": "code",
   "execution_count": null,
   "metadata": {},
   "outputs": [],
   "source": []
  },
  {
   "cell_type": "code",
   "execution_count": null,
   "metadata": {},
   "outputs": [],
   "source": []
  },
  {
   "cell_type": "markdown",
   "metadata": {},
   "source": [
    "\n",
    "\n",
    "\n",
    "# Checking if there is underlying DATA issues leads to insignificant ANOVA results????\n",
    "\n"
   ]
  },
  {
   "cell_type": "code",
   "execution_count": 26,
   "metadata": {},
   "outputs": [
    {
     "data": {
      "text/plain": [
       "<matplotlib.axes._subplots.AxesSubplot at 0x12984b3a588>"
      ]
     },
     "execution_count": 26,
     "metadata": {},
     "output_type": "execute_result"
    },
    {
     "data": {
      "image/png": "[encoded data removed]",
      "text/plain": [
       "<Figure size 936x720 with 2 Axes>"
      ]
     },
     "metadata": {},
     "output_type": "display_data"
    }
   ],
   "source": [
    "import matplotlib.pyplot as plt\n",
    "import seaborn as sns\n",
    "# check if any missing values in each of the columns\n",
    "fig, ax = plt.subplots(figsize=(13,10))   \n",
    "sns.heatmap(slice_data.isnull(), cmap='viridis', ax=ax) # heatmap of missing values"
   ]
  },
  {
   "cell_type": "code",
   "execution_count": 27,
   "metadata": {},
   "outputs": [
    {
     "data": {
      "image/png": "[encoded data removed]",
      "text/plain": [
       "<Figure size 432x288 with 1 Axes>"
      ]
     },
     "metadata": {},
     "output_type": "display_data"
    },
    {
     "data": {
      "image/png": "[encoded data removed]",
      "text/plain": [
       "<Figure size 432x288 with 1 Axes>"
      ]
     },
     "metadata": {},
     "output_type": "display_data"
    },
    {
     "data": {
      "image/png": "[encoded data removed]",
      "text/plain": [
       "<Figure size 432x288 with 1 Axes>"
      ]
     },
     "metadata": {},
     "output_type": "display_data"
    },
    {
     "data": {
      "image/png": "[encoded data removed]",
      "text/plain": [
       "<Figure size 432x288 with 1 Axes>"
      ]
     },
     "metadata": {},
     "output_type": "display_data"
    },
    {
     "data": {
      "image/png": "[encoded data removed]",
      "text/plain": [
       "<Figure size 432x288 with 1 Axes>"
      ]
     },
     "metadata": {},
     "output_type": "display_data"
    },
    {
     "data": {
      "image/png": "[encoded data removed]",
      "text/plain": [
       "<Figure size 432x288 with 1 Axes>"
      ]
     },
     "metadata": {},
     "output_type": "display_data"
    },
    {
     "data": {
      "image/png": "[encoded data removed]",
      "text/plain": [
       "<Figure size 432x288 with 1 Axes>"
      ]
     },
     "metadata": {},
     "output_type": "display_data"
    },
    {
     "data": {
      "image/png": "[encoded data removed]",
      "text/plain": [
       "<Figure size 432x288 with 1 Axes>"
      ]
     },
     "metadata": {},
     "output_type": "display_data"
    },
    {
     "data": {
      "image/png": "[encoded data removed]",
      "text/plain": [
       "<Figure size 432x288 with 1 Axes>"
      ]
     },
     "metadata": {},
     "output_type": "display_data"
    },
    {
     "data": {
      "image/png": "[encoded data removed]",
      "text/plain": [
       "<Figure size 432x288 with 1 Axes>"
      ]
     },
     "metadata": {},
     "output_type": "display_data"
    },
    {
     "data": {
      "image/png": "[encoded data removed]",
      "text/plain": [
       "<Figure size 432x288 with 1 Axes>"
      ]
     },
     "metadata": {},
     "output_type": "display_data"
    },
    {
     "data": {
      "image/png": "[encoded data removed]",
      "text/plain": [
       "<Figure size 432x288 with 1 Axes>"
      ]
     },
     "metadata": {},
     "output_type": "display_data"
    },
    {
     "data": {
      "image/png": "[encoded data removed]",
      "text/plain": [
       "<Figure size 432x288 with 1 Axes>"
      ]
     },
     "metadata": {},
     "output_type": "display_data"
    },
    {
     "data": {
      "image/png": "[encoded data removed]",
      "text/plain": [
       "<Figure size 432x288 with 1 Axes>"
      ]
     },
     "metadata": {},
     "output_type": "display_data"
    },
    {
     "data": {
      "image/png": "[encoded data removed]",
      "text/plain": [
       "<Figure size 432x288 with 1 Axes>"
      ]
     },
     "metadata": {},
     "output_type": "display_data"
    },
    {
     "data": {
      "image/png": "[encoded data removed]",
      "text/plain": [
       "<Figure size 432x288 with 1 Axes>"
      ]
     },
     "metadata": {},
     "output_type": "display_data"
    },
    {
     "data": {
      "image/png": "[encoded data removed]",
      "text/plain": [
       "<Figure size 432x288 with 1 Axes>"
      ]
     },
     "metadata": {},
     "output_type": "display_data"
    },
    {
     "data": {
      "image/png": "[encoded data removed]",
      "text/plain": [
       "<Figure size 432x288 with 1 Axes>"
      ]
     },
     "metadata": {},
     "output_type": "display_data"
    },
    {
     "data": {
      "image/png": "[encoded data removed]",
      "text/plain": [
       "<Figure size 432x288 with 1 Axes>"
      ]
     },
     "metadata": {},
     "output_type": "display_data"
    },
    {
     "data": {
      "image/png": "[encoded data removed]",
      "text/plain": [
       "<Figure size 432x288 with 1 Axes>"
      ]
     },
     "metadata": {},
     "output_type": "display_data"
    },
    {
     "data": {
      "image/png": "[encoded data removed]",
      "text/plain": [
       "<Figure size 432x288 with 1 Axes>"
      ]
     },
     "metadata": {},
     "output_type": "display_data"
    },
    {
     "data": {
      "image/png": "[encoded data removed]",
      "text/plain": [
       "<Figure size 432x288 with 1 Axes>"
      ]
     },
     "metadata": {},
     "output_type": "display_data"
    },
    {
     "data": {
      "image/png": "[encoded data removed]",
      "text/plain": [
       "<Figure size 432x288 with 1 Axes>"
      ]
     },
     "metadata": {},
     "output_type": "display_data"
    },
    {
     "data": {
      "image/png": "[encoded data removed]",
      "text/plain": [
       "<Figure size 432x288 with 1 Axes>"
      ]
     },
     "metadata": {},
     "output_type": "display_data"
    }
   ],
   "source": [
    "import seaborn as sns\n",
    "# plotting distribution of numeric columns\n",
    "for i in slice_data.columns[3:]: # plots all columns except first three columns\n",
    "    #sns.distplot(num_cols[i], kde=True) # distribution plots view\n",
    "    sns.histplot(slice_data[i]) # histogram view\n",
    "    plt.show()"
   ]
  },
  {
   "cell_type": "code",
   "execution_count": null,
   "metadata": {},
   "outputs": [],
   "source": [
    "sns.pairplot(slice_data[veg_indices], hue=\"Cover_Crop_Variety\")"
   ]
  },
  {
   "cell_type": "code",
   "execution_count": 28,
   "metadata": {},
   "outputs": [
    {
     "name": "stdout",
     "output_type": "stream",
     "text": [
      "Index(['NDWI', 'EVI', 'NAVI', 'GNDVI', 'Cigreen', 'RENDVI', 'TGI', 'SAVI',\n",
      "       'CI_RedEdge', 'BI', 'SCI', 'GLI', 'NGRDI_Zonal', 'SI', 'VARI', 'HUE',\n",
      "       'BGI', 'PSRI', 'RVI', 'TVI', 'CVI', 'NDVI', 'DVI',\n",
      "       'Soy_yiled(bu/acre)'],\n",
      "      dtype='object')\n"
     ]
    },
    {
     "data": {
      "text/plain": [
       "<matplotlib.axes._subplots.AxesSubplot at 0x12983411608>"
      ]
     },
     "execution_count": 28,
     "metadata": {},
     "output_type": "execute_result"
    },
    {
     "data": {
      "image/png": "[encoded data removed]",
      "text/plain": [
       "<Figure size 864x720 with 2 Axes>"
      ]
     },
     "metadata": {},
     "output_type": "display_data"
    }
   ],
   "source": [
    "import matplotlib.pyplot as plt\n",
    "import seaborn as sns\n",
    "\n",
    "veg_indices=slice_data.columns[3:]\n",
    "print(veg_indices)\n",
    "\n",
    "data_set_corr_mat=slice_data[veg_indices].corr()\n",
    "f,ax=plt.subplots(figsize=(12,10))\n",
    "sns.heatmap(data_set_corr_mat, cmap='viridis', square=True)"
   ]
  },
  {
   "cell_type": "code",
   "execution_count": 29,
   "metadata": {},
   "outputs": [
    {
     "data": {
      "image/png": "[encoded data removed]",
      "text/plain": [
       "<Figure size 432x288 with 1 Axes>"
      ]
     },
     "metadata": {},
     "output_type": "display_data"
    }
   ],
   "source": [
    "ax=sns.boxplot(x=data['One_Mix_None_Cover_Crop'], y=data['Soy_yiled(bu/acre)'])\n",
    "ax.set_xticklabels(ax.get_xticklabels(),rotation=45)\n",
    "plt.show()"
   ]
  },
  {
   "cell_type": "code",
   "execution_count": null,
   "metadata": {},
   "outputs": [],
   "source": []
  }
 ],
 "metadata": {
  "kernelspec": {
   "display_name": "Python 3",
   "language": "python",
   "name": "python3"
  },
  "language_info": {
   "codemirror_mode": {
    "name": "ipython",
    "version": 3
   },
   "file_extension": ".py",
   "mimetype": "text/x-python",
   "name": "python",
   "nbconvert_exporter": "python",
   "pygments_lexer": "ipython3",
   "version": "3.7.6"
  }
 },
 "nbformat": 4,
 "nbformat_minor": 4
}
