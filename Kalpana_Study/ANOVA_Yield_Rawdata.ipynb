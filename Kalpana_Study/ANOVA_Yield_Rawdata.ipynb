{
 "cells": [
  {
   "cell_type": "code",
   "execution_count": 16,
   "metadata": {},
   "outputs": [],
   "source": [
    "import pandas as pd\n",
    "import researchpy as rp"
   ]
  },
  {
   "cell_type": "code",
   "execution_count": 2,
   "metadata": {},
   "outputs": [],
   "source": [
    "import os"
   ]
  },
  {
   "cell_type": "code",
   "execution_count": 3,
   "metadata": {},
   "outputs": [
    {
     "data": {
      "text/plain": [
       "'C:\\\\Users\\\\anjir\\\\Desktop\\\\Kalpana_ANOVA_Data'"
      ]
     },
     "execution_count": 3,
     "metadata": {},
     "output_type": "execute_result"
    }
   ],
   "source": [
    "os.getcwd()"
   ]
  },
  {
   "cell_type": "code",
   "execution_count": 8,
   "metadata": {},
   "outputs": [],
   "source": [
    "yield_data=pd.read_excel('Soybean2021HarvestDAta1.xls')"
   ]
  },
  {
   "cell_type": "code",
   "execution_count": 51,
   "metadata": {},
   "outputs": [],
   "source": [
    "#yield_data.head()"
   ]
  },
  {
   "cell_type": "code",
   "execution_count": 54,
   "metadata": {},
   "outputs": [
    {
     "data": {
      "text/html": [
       "<div>\n",
       "<style scoped>\n",
       "    .dataframe tbody tr th:only-of-type {\n",
       "        vertical-align: middle;\n",
       "    }\n",
       "\n",
       "    .dataframe tbody tr th {\n",
       "        vertical-align: top;\n",
       "    }\n",
       "\n",
       "    .dataframe thead th {\n",
       "        text-align: right;\n",
       "    }\n",
       "</style>\n",
       "<table border=\"1\" class=\"dataframe\">\n",
       "  <thead>\n",
       "    <tr style=\"text-align: right;\">\n",
       "      <th></th>\n",
       "      <th>Cover_crop</th>\n",
       "      <th>Plot_id</th>\n",
       "      <th>Replication</th>\n",
       "      <th>Yield</th>\n",
       "    </tr>\n",
       "  </thead>\n",
       "  <tbody>\n",
       "    <tr>\n",
       "      <th>0</th>\n",
       "      <td>Trit</td>\n",
       "      <td>101</td>\n",
       "      <td>1</td>\n",
       "      <td>66.734009</td>\n",
       "    </tr>\n",
       "    <tr>\n",
       "      <th>1</th>\n",
       "      <td>RTO</td>\n",
       "      <td>102</td>\n",
       "      <td>1</td>\n",
       "      <td>54.645803</td>\n",
       "    </tr>\n",
       "    <tr>\n",
       "      <th>2</th>\n",
       "      <td>Oat</td>\n",
       "      <td>103</td>\n",
       "      <td>1</td>\n",
       "      <td>56.883334</td>\n",
       "    </tr>\n",
       "    <tr>\n",
       "      <th>3</th>\n",
       "      <td>RCK</td>\n",
       "      <td>104</td>\n",
       "      <td>1</td>\n",
       "      <td>56.049039</td>\n",
       "    </tr>\n",
       "    <tr>\n",
       "      <th>4</th>\n",
       "      <td>Bare</td>\n",
       "      <td>105</td>\n",
       "      <td>1</td>\n",
       "      <td>51.591460</td>\n",
       "    </tr>\n",
       "  </tbody>\n",
       "</table>\n",
       "</div>"
      ],
      "text/plain": [
       "  Cover_crop  Plot_id  Replication      Yield\n",
       "0       Trit      101            1  66.734009\n",
       "1        RTO      102            1  54.645803\n",
       "2        Oat      103            1  56.883334\n",
       "3        RCK      104            1  56.049039\n",
       "4       Bare      105            1  51.591460"
      ]
     },
     "execution_count": 54,
     "metadata": {},
     "output_type": "execute_result"
    }
   ],
   "source": [
    "yield_dataset=yield_data[['Cover_crop','Plot_id','Replication','bu/acre']]\n",
    "yield_dataset=yield_dataset.rename(columns={'bu/acre':'Yield'})\n",
    "yield_dataset.head()"
   ]
  },
  {
   "cell_type": "code",
   "execution_count": 58,
   "metadata": {},
   "outputs": [
    {
     "name": "stdout",
     "output_type": "stream",
     "text": [
      "\n",
      "\n"
     ]
    },
    {
     "data": {
      "text/html": [
       "<div>\n",
       "<style scoped>\n",
       "    .dataframe tbody tr th:only-of-type {\n",
       "        vertical-align: middle;\n",
       "    }\n",
       "\n",
       "    .dataframe tbody tr th {\n",
       "        vertical-align: top;\n",
       "    }\n",
       "\n",
       "    .dataframe thead th {\n",
       "        text-align: right;\n",
       "    }\n",
       "</style>\n",
       "<table border=\"1\" class=\"dataframe\">\n",
       "  <thead>\n",
       "    <tr style=\"text-align: right;\">\n",
       "      <th></th>\n",
       "      <th>N</th>\n",
       "      <th>Mean</th>\n",
       "      <th>SD</th>\n",
       "      <th>SE</th>\n",
       "      <th>95% Conf.</th>\n",
       "      <th>Interval</th>\n",
       "    </tr>\n",
       "    <tr>\n",
       "      <th>Cover_crop</th>\n",
       "      <th></th>\n",
       "      <th></th>\n",
       "      <th></th>\n",
       "      <th></th>\n",
       "      <th></th>\n",
       "      <th></th>\n",
       "    </tr>\n",
       "  </thead>\n",
       "  <tbody>\n",
       "    <tr>\n",
       "      <th>Bare</th>\n",
       "      <td>4</td>\n",
       "      <td>48.1416</td>\n",
       "      <td>3.9351</td>\n",
       "      <td>1.9676</td>\n",
       "      <td>41.8800</td>\n",
       "      <td>54.4033</td>\n",
       "    </tr>\n",
       "    <tr>\n",
       "      <th>Oat</th>\n",
       "      <td>4</td>\n",
       "      <td>48.4082</td>\n",
       "      <td>7.4765</td>\n",
       "      <td>3.7382</td>\n",
       "      <td>36.5115</td>\n",
       "      <td>60.3049</td>\n",
       "    </tr>\n",
       "    <tr>\n",
       "      <th>RCK</th>\n",
       "      <td>4</td>\n",
       "      <td>51.7822</td>\n",
       "      <td>3.6037</td>\n",
       "      <td>1.8019</td>\n",
       "      <td>46.0479</td>\n",
       "      <td>57.5166</td>\n",
       "    </tr>\n",
       "    <tr>\n",
       "      <th>RTO</th>\n",
       "      <td>4</td>\n",
       "      <td>51.2235</td>\n",
       "      <td>3.3344</td>\n",
       "      <td>1.6672</td>\n",
       "      <td>45.9177</td>\n",
       "      <td>56.5292</td>\n",
       "    </tr>\n",
       "    <tr>\n",
       "      <th>Rye</th>\n",
       "      <td>4</td>\n",
       "      <td>51.5287</td>\n",
       "      <td>3.6661</td>\n",
       "      <td>1.8330</td>\n",
       "      <td>45.6951</td>\n",
       "      <td>57.3622</td>\n",
       "    </tr>\n",
       "    <tr>\n",
       "      <th>Trit</th>\n",
       "      <td>4</td>\n",
       "      <td>54.1192</td>\n",
       "      <td>9.7006</td>\n",
       "      <td>4.8503</td>\n",
       "      <td>38.6833</td>\n",
       "      <td>69.5550</td>\n",
       "    </tr>\n",
       "  </tbody>\n",
       "</table>\n",
       "</div>"
      ],
      "text/plain": [
       "            N     Mean      SD      SE  95% Conf.  Interval\n",
       "Cover_crop                                                 \n",
       "Bare        4  48.1416  3.9351  1.9676    41.8800   54.4033\n",
       "Oat         4  48.4082  7.4765  3.7382    36.5115   60.3049\n",
       "RCK         4  51.7822  3.6037  1.8019    46.0479   57.5166\n",
       "RTO         4  51.2235  3.3344  1.6672    45.9177   56.5292\n",
       "Rye         4  51.5287  3.6661  1.8330    45.6951   57.3622\n",
       "Trit        4  54.1192  9.7006  4.8503    38.6833   69.5550"
      ]
     },
     "execution_count": 58,
     "metadata": {},
     "output_type": "execute_result"
    }
   ],
   "source": [
    "rp.summary_cont(yield_dataset['Yield'].groupby(yield_dataset['Cover_crop']))"
   ]
  },
  {
   "cell_type": "code",
   "execution_count": 44,
   "metadata": {},
   "outputs": [
    {
     "data": {
      "image/png": "[encoded data removed]",
      "text/plain": [
       "<Figure size 432x288 with 1 Axes>"
      ]
     },
     "metadata": {
      "needs_background": "light"
     },
     "output_type": "display_data"
    }
   ],
   "source": [
    "import matplotlib.pyplot as plt\n",
    "import seaborn as sns\n",
    "ax = sns.boxplot(x='Cover_crop', y='Yield', data=yield_dataset)\n",
    "#ax = sns.swarmplot(x=\"treatments\", y=\"value\", data=df_melt, color='#7d0013')\n",
    "plt.show()"
   ]
  },
  {
   "cell_type": "code",
   "execution_count": 68,
   "metadata": {},
   "outputs": [
    {
     "data": {
      "text/plain": [
       "<matplotlib.axes._subplots.AxesSubplot at 0x29b427e7c48>"
      ]
     },
     "execution_count": 68,
     "metadata": {},
     "output_type": "execute_result"
    },
    {
     "data": {
      "image/png": "[encoded data removed]",
      "text/plain": [
       "<Figure size 432x288 with 1 Axes>"
      ]
     },
     "metadata": {
      "needs_background": "light"
     },
     "output_type": "display_data"
    }
   ],
   "source": [
    "sns.swarmplot(x='Cover_crop', y='Yield',hue=\"Replication\", data=yield_dataset) "
   ]
  },
  {
   "cell_type": "code",
   "execution_count": 49,
   "metadata": {},
   "outputs": [
    {
     "data": {
      "image/png": "[encoded data removed]",
      "text/plain": [
       "<Figure size 432x288 with 1 Axes>"
      ]
     },
     "metadata": {
      "needs_background": "light"
     },
     "output_type": "display_data"
    }
   ],
   "source": [
    "from statsmodels.graphics.factorplots import interaction_plot\n",
    "import matplotlib.pyplot as plt\n",
    "fig = interaction_plot(x=yield_dataset['Cover_crop'], trace=yield_dataset['Replication'], response=yield_dataset['Yield'])\n",
    "plt.show()"
   ]
  },
  {
   "cell_type": "code",
   "execution_count": 61,
   "metadata": {},
   "outputs": [
    {
     "data": {
      "text/html": [
       "<div>\n",
       "<style scoped>\n",
       "    .dataframe tbody tr th:only-of-type {\n",
       "        vertical-align: middle;\n",
       "    }\n",
       "\n",
       "    .dataframe tbody tr th {\n",
       "        vertical-align: top;\n",
       "    }\n",
       "\n",
       "    .dataframe thead th {\n",
       "        text-align: right;\n",
       "    }\n",
       "</style>\n",
       "<table border=\"1\" class=\"dataframe\">\n",
       "  <thead>\n",
       "    <tr style=\"text-align: right;\">\n",
       "      <th></th>\n",
       "      <th>df</th>\n",
       "      <th>sum_sq</th>\n",
       "      <th>mean_sq</th>\n",
       "      <th>F</th>\n",
       "      <th>PR(&gt;F)</th>\n",
       "    </tr>\n",
       "  </thead>\n",
       "  <tbody>\n",
       "    <tr>\n",
       "      <th>C(Replication)</th>\n",
       "      <td>3.0</td>\n",
       "      <td>286.132727</td>\n",
       "      <td>95.377576</td>\n",
       "      <td>4.42987</td>\n",
       "      <td>0.020264</td>\n",
       "    </tr>\n",
       "    <tr>\n",
       "      <th>C(Cover_crop)</th>\n",
       "      <td>5.0</td>\n",
       "      <td>101.809356</td>\n",
       "      <td>20.361871</td>\n",
       "      <td>0.94572</td>\n",
       "      <td>0.480234</td>\n",
       "    </tr>\n",
       "    <tr>\n",
       "      <th>Residual</th>\n",
       "      <td>15.0</td>\n",
       "      <td>322.958371</td>\n",
       "      <td>21.530558</td>\n",
       "      <td>NaN</td>\n",
       "      <td>NaN</td>\n",
       "    </tr>\n",
       "  </tbody>\n",
       "</table>\n",
       "</div>"
      ],
      "text/plain": [
       "                  df      sum_sq    mean_sq        F    PR(>F)\n",
       "C(Replication)   3.0  286.132727  95.377576  4.42987  0.020264\n",
       "C(Cover_crop)    5.0  101.809356  20.361871  0.94572  0.480234\n",
       "Residual        15.0  322.958371  21.530558      NaN       NaN"
      ]
     },
     "execution_count": 61,
     "metadata": {},
     "output_type": "execute_result"
    }
   ],
   "source": [
    "import statsmodels.api as sm\n",
    "from statsmodels.formula.api import ols\n",
    "model = ols('Yield ~ C(Replication) + C(Cover_crop)', data=yield_dataset).fit()\n",
    "anova_table = sm.stats.anova_lm(model, typ=1)\n",
    "anova_table"
   ]
  },
  {
   "cell_type": "code",
   "execution_count": null,
   "metadata": {},
   "outputs": [],
   "source": []
  },
  {
   "cell_type": "code",
   "execution_count": null,
   "metadata": {},
   "outputs": [],
   "source": []
  }
 ],
 "metadata": {
  "kernelspec": {
   "display_name": "Python 3",
   "language": "python",
   "name": "python3"
  },
  "language_info": {
   "codemirror_mode": {
    "name": "ipython",
    "version": 3
   },
   "file_extension": ".py",
   "mimetype": "text/x-python",
   "name": "python",
   "nbconvert_exporter": "python",
   "pygments_lexer": "ipython3",
   "version": "3.7.6"
  }
 },
 "nbformat": 4,
 "nbformat_minor": 4
}
